{
  "nbformat": 4,
  "nbformat_minor": 0,
  "metadata": {
    "colab": {
      "provenance": [],
      "collapsed_sections": []
    },
    "kernelspec": {
      "name": "python3",
      "display_name": "Python 3"
    },
    "language_info": {
      "name": "python"
    }
  },
  "cells": [
    {
      "cell_type": "markdown",
      "source": [
        "#1 Data"
      ],
      "metadata": {
        "id": "vmdg3-qQiBUb"
      }
    },
    {
      "cell_type": "markdown",
      "source": [
        "###1.1 Getting data"
      ],
      "metadata": {
        "id": "Pie_HzSp6PuN"
      }
    },
    {
      "cell_type": "code",
      "execution_count": 1,
      "metadata": {
        "colab": {
          "base_uri": "https://localhost:8080/",
          "height": 206
        },
        "id": "chKT0mn_hqR7",
        "outputId": "f8edf115-fce7-4bba-c02f-c6b544b214a9"
      },
      "outputs": [
        {
          "output_type": "execute_result",
          "data": {
            "text/plain": [
              "   Temperature         L       R    A_M Color Spectral_Class  Type\n",
              "0         3068  0.002400  0.1700  16.12   Red              M     0\n",
              "1         3042  0.000500  0.1542  16.60   Red              M     0\n",
              "2         2600  0.000300  0.1020  18.70   Red              M     0\n",
              "3         2800  0.000200  0.1600  16.65   Red              M     0\n",
              "4         1939  0.000138  0.1030  20.06   Red              M     0"
            ],
            "text/html": [
              "\n",
              "  <div id=\"df-54f51250-5aa3-4cfd-9c2d-8ec12a9b932f\">\n",
              "    <div class=\"colab-df-container\">\n",
              "      <div>\n",
              "<style scoped>\n",
              "    .dataframe tbody tr th:only-of-type {\n",
              "        vertical-align: middle;\n",
              "    }\n",
              "\n",
              "    .dataframe tbody tr th {\n",
              "        vertical-align: top;\n",
              "    }\n",
              "\n",
              "    .dataframe thead th {\n",
              "        text-align: right;\n",
              "    }\n",
              "</style>\n",
              "<table border=\"1\" class=\"dataframe\">\n",
              "  <thead>\n",
              "    <tr style=\"text-align: right;\">\n",
              "      <th></th>\n",
              "      <th>Temperature</th>\n",
              "      <th>L</th>\n",
              "      <th>R</th>\n",
              "      <th>A_M</th>\n",
              "      <th>Color</th>\n",
              "      <th>Spectral_Class</th>\n",
              "      <th>Type</th>\n",
              "    </tr>\n",
              "  </thead>\n",
              "  <tbody>\n",
              "    <tr>\n",
              "      <th>0</th>\n",
              "      <td>3068</td>\n",
              "      <td>0.002400</td>\n",
              "      <td>0.1700</td>\n",
              "      <td>16.12</td>\n",
              "      <td>Red</td>\n",
              "      <td>M</td>\n",
              "      <td>0</td>\n",
              "    </tr>\n",
              "    <tr>\n",
              "      <th>1</th>\n",
              "      <td>3042</td>\n",
              "      <td>0.000500</td>\n",
              "      <td>0.1542</td>\n",
              "      <td>16.60</td>\n",
              "      <td>Red</td>\n",
              "      <td>M</td>\n",
              "      <td>0</td>\n",
              "    </tr>\n",
              "    <tr>\n",
              "      <th>2</th>\n",
              "      <td>2600</td>\n",
              "      <td>0.000300</td>\n",
              "      <td>0.1020</td>\n",
              "      <td>18.70</td>\n",
              "      <td>Red</td>\n",
              "      <td>M</td>\n",
              "      <td>0</td>\n",
              "    </tr>\n",
              "    <tr>\n",
              "      <th>3</th>\n",
              "      <td>2800</td>\n",
              "      <td>0.000200</td>\n",
              "      <td>0.1600</td>\n",
              "      <td>16.65</td>\n",
              "      <td>Red</td>\n",
              "      <td>M</td>\n",
              "      <td>0</td>\n",
              "    </tr>\n",
              "    <tr>\n",
              "      <th>4</th>\n",
              "      <td>1939</td>\n",
              "      <td>0.000138</td>\n",
              "      <td>0.1030</td>\n",
              "      <td>20.06</td>\n",
              "      <td>Red</td>\n",
              "      <td>M</td>\n",
              "      <td>0</td>\n",
              "    </tr>\n",
              "  </tbody>\n",
              "</table>\n",
              "</div>\n",
              "      <button class=\"colab-df-convert\" onclick=\"convertToInteractive('df-54f51250-5aa3-4cfd-9c2d-8ec12a9b932f')\"\n",
              "              title=\"Convert this dataframe to an interactive table.\"\n",
              "              style=\"display:none;\">\n",
              "        \n",
              "  <svg xmlns=\"http://www.w3.org/2000/svg\" height=\"24px\"viewBox=\"0 0 24 24\"\n",
              "       width=\"24px\">\n",
              "    <path d=\"M0 0h24v24H0V0z\" fill=\"none\"/>\n",
              "    <path d=\"M18.56 5.44l.94 2.06.94-2.06 2.06-.94-2.06-.94-.94-2.06-.94 2.06-2.06.94zm-11 1L8.5 8.5l.94-2.06 2.06-.94-2.06-.94L8.5 2.5l-.94 2.06-2.06.94zm10 10l.94 2.06.94-2.06 2.06-.94-2.06-.94-.94-2.06-.94 2.06-2.06.94z\"/><path d=\"M17.41 7.96l-1.37-1.37c-.4-.4-.92-.59-1.43-.59-.52 0-1.04.2-1.43.59L10.3 9.45l-7.72 7.72c-.78.78-.78 2.05 0 2.83L4 21.41c.39.39.9.59 1.41.59.51 0 1.02-.2 1.41-.59l7.78-7.78 2.81-2.81c.8-.78.8-2.07 0-2.86zM5.41 20L4 18.59l7.72-7.72 1.47 1.35L5.41 20z\"/>\n",
              "  </svg>\n",
              "      </button>\n",
              "      \n",
              "  <style>\n",
              "    .colab-df-container {\n",
              "      display:flex;\n",
              "      flex-wrap:wrap;\n",
              "      gap: 12px;\n",
              "    }\n",
              "\n",
              "    .colab-df-convert {\n",
              "      background-color: #E8F0FE;\n",
              "      border: none;\n",
              "      border-radius: 50%;\n",
              "      cursor: pointer;\n",
              "      display: none;\n",
              "      fill: #1967D2;\n",
              "      height: 32px;\n",
              "      padding: 0 0 0 0;\n",
              "      width: 32px;\n",
              "    }\n",
              "\n",
              "    .colab-df-convert:hover {\n",
              "      background-color: #E2EBFA;\n",
              "      box-shadow: 0px 1px 2px rgba(60, 64, 67, 0.3), 0px 1px 3px 1px rgba(60, 64, 67, 0.15);\n",
              "      fill: #174EA6;\n",
              "    }\n",
              "\n",
              "    [theme=dark] .colab-df-convert {\n",
              "      background-color: #3B4455;\n",
              "      fill: #D2E3FC;\n",
              "    }\n",
              "\n",
              "    [theme=dark] .colab-df-convert:hover {\n",
              "      background-color: #434B5C;\n",
              "      box-shadow: 0px 1px 3px 1px rgba(0, 0, 0, 0.15);\n",
              "      filter: drop-shadow(0px 1px 2px rgba(0, 0, 0, 0.3));\n",
              "      fill: #FFFFFF;\n",
              "    }\n",
              "  </style>\n",
              "\n",
              "      <script>\n",
              "        const buttonEl =\n",
              "          document.querySelector('#df-54f51250-5aa3-4cfd-9c2d-8ec12a9b932f button.colab-df-convert');\n",
              "        buttonEl.style.display =\n",
              "          google.colab.kernel.accessAllowed ? 'block' : 'none';\n",
              "\n",
              "        async function convertToInteractive(key) {\n",
              "          const element = document.querySelector('#df-54f51250-5aa3-4cfd-9c2d-8ec12a9b932f');\n",
              "          const dataTable =\n",
              "            await google.colab.kernel.invokeFunction('convertToInteractive',\n",
              "                                                     [key], {});\n",
              "          if (!dataTable) return;\n",
              "\n",
              "          const docLinkHtml = 'Like what you see? Visit the ' +\n",
              "            '<a target=\"_blank\" href=https://colab.research.google.com/notebooks/data_table.ipynb>data table notebook</a>'\n",
              "            + ' to learn more about interactive tables.';\n",
              "          element.innerHTML = '';\n",
              "          dataTable['output_type'] = 'display_data';\n",
              "          await google.colab.output.renderOutput(dataTable, element);\n",
              "          const docLink = document.createElement('div');\n",
              "          docLink.innerHTML = docLinkHtml;\n",
              "          element.appendChild(docLink);\n",
              "        }\n",
              "      </script>\n",
              "    </div>\n",
              "  </div>\n",
              "  "
            ]
          },
          "metadata": {},
          "execution_count": 1
        }
      ],
      "source": [
        "import pandas as pd\n",
        "\n",
        "data = pd.read_csv('stars.csv')\n",
        "data.head()\n",
        "#data['Type'].nunique()"
      ]
    },
    {
      "cell_type": "code",
      "source": [
        "data = data.drop(columns =['Color', 'Spectral_Class'])\n",
        "data['Temperature'] = data['Temperature'].astype(float)\n",
        "X = data.drop(columns = 'Type')\n",
        "# y = data['Type']\n",
        "print(X.dtypes)"
      ],
      "metadata": {
        "colab": {
          "base_uri": "https://localhost:8080/"
        },
        "id": "qpXeqiTR2Uy2",
        "outputId": "84db2087-60a6-42bd-a8f1-40e3235d85fa"
      },
      "execution_count": 2,
      "outputs": [
        {
          "output_type": "stream",
          "name": "stdout",
          "text": [
            "Temperature    float64\n",
            "L              float64\n",
            "R              float64\n",
            "A_M            float64\n",
            "dtype: object\n"
          ]
        }
      ]
    },
    {
      "cell_type": "markdown",
      "source": [
        "###1.2 Standardizing"
      ],
      "metadata": {
        "id": "wEEzSwrxjskw"
      }
    },
    {
      "cell_type": "code",
      "source": [
        "from sklearn.preprocessing import StandardScaler\n",
        "\n",
        "scaler = StandardScaler()\n",
        "X_stand = scaler.fit_transform(X)\n",
        "X_stand[0]"
      ],
      "metadata": {
        "colab": {
          "base_uri": "https://localhost:8080/"
        },
        "id": "r9vmGcBch9Fl",
        "outputId": "087ecb5b-619c-48fe-b31d-4a8cd2841657"
      },
      "execution_count": 3,
      "outputs": [
        {
          "output_type": "execute_result",
          "data": {
            "text/plain": [
              "array([-0.7793821 , -0.59862356, -0.45920992,  1.11674535])"
            ]
          },
          "metadata": {},
          "execution_count": 3
        }
      ]
    },
    {
      "cell_type": "markdown",
      "source": [
        "###1.3 Visualizing"
      ],
      "metadata": {
        "id": "CJ7KpxBhjo3x"
      }
    },
    {
      "cell_type": "code",
      "source": [
        "from sklearn.decomposition import PCA\n",
        "from matplotlib import pyplot as plt\n",
        "\n",
        "pca = PCA(n_components=2)\n",
        "X_trans = pca.fit_transform(X_stand)\n",
        "plt.scatter(X_trans[:, 0], X_trans[:, 1])\n",
        "plt.show()"
      ],
      "metadata": {
        "colab": {
          "base_uri": "https://localhost:8080/",
          "height": 268
        },
        "id": "B9I4SzZJjjGz",
        "outputId": "c20363b0-4116-4b06-ffd7-f4410b344f05"
      },
      "execution_count": 4,
      "outputs": [
        {
          "output_type": "display_data",
          "data": {
            "text/plain": [
              "<Figure size 432x288 with 1 Axes>"
            ],
            "image/png": "[encoded data removed]"
          },
          "metadata": {
            "needs_background": "light"
          }
        }
      ]
    },
    {
      "cell_type": "markdown",
      "source": [
        "#2 Decision tree learning\n"
      ],
      "metadata": {
        "id": "xiTd_ReFiCrn"
      }
    },
    {
      "cell_type": "markdown",
      "source": [
        "### 2.1 Computing score"
      ],
      "metadata": {
        "id": "AVD5sW2a6Y0d"
      }
    },
    {
      "cell_type": "code",
      "source": [
        "import numpy as np\n",
        "from sklearn.tree import DecisionTreeClassifier\n",
        "from sklearn.metrics import silhouette_score\n",
        "\n",
        "n = len(X)\n",
        "labels = range(0, n)\n",
        "scores = []\n",
        "for i in np.arange(0.05, 1, 0.05):\n",
        "  model = DecisionTreeClassifier(criterion='entropy',\n",
        "                                 min_impurity_decrease=i)\n",
        "  model.fit(X, labels)\n",
        "  labels = model.apply(X)\n",
        "  sil = silhouette_score(X_stand, labels)\n",
        "  scores.append({'param': round(i, 2),\n",
        "                 'score': round(sil, 4)})\n",
        "  \n",
        "scores[:5]"
      ],
      "metadata": {
        "colab": {
          "base_uri": "https://localhost:8080/"
        },
        "id": "RMwyB6KQkwzx",
        "outputId": "ec4d9949-f4b5-40ee-e446-8053cc594075"
      },
      "execution_count": 5,
      "outputs": [
        {
          "output_type": "execute_result",
          "data": {
            "text/plain": [
              "[{'param': 0.05, 'score': -0.0856},\n",
              " {'param': 0.1, 'score': 0.0054},\n",
              " {'param': 0.15, 'score': 0.1235},\n",
              " {'param': 0.2, 'score': 0.1235},\n",
              " {'param': 0.25, 'score': 0.1235}]"
            ]
          },
          "metadata": {},
          "execution_count": 5
        }
      ]
    },
    {
      "cell_type": "markdown",
      "source": [
        "###2.2 Visualizing score"
      ],
      "metadata": {
        "id": "9GGXDk4y7vvm"
      }
    },
    {
      "cell_type": "code",
      "source": [
        "from matplotlib import pyplot as plt\n",
        "\n",
        "param_list = [x['param'] for x in scores]\n",
        "score_list = [x['score'] for x in scores]\n",
        "\n",
        "fig = plt.figure()\n",
        "ax = fig.add_subplot()\n",
        "ax.set_ylabel('Silhouette')\n",
        "ax.set_xlabel('Minimum inpurity gain')\n",
        "plt.plot(param_list, score_list, label='score')\n",
        "ax.legend()\n",
        "plt.show()"
      ],
      "metadata": {
        "colab": {
          "base_uri": "https://localhost:8080/",
          "height": 279
        },
        "id": "iha73_0Hlu57",
        "outputId": "164ed77e-254a-4886-ae82-ddb1669619f6"
      },
      "execution_count": 6,
      "outputs": [
        {
          "output_type": "display_data",
          "data": {
            "text/plain": [
              "<Figure size 432x288 with 1 Axes>"
            ],
            "image/png": "[encoded data removed]"
          },
          "metadata": {
            "needs_background": "light"
          }
        }
      ]
    },
    {
      "cell_type": "markdown",
      "source": [
        "### 2.3 Computing score gain"
      ],
      "metadata": {
        "id": "v8FSIYrv7c3a"
      }
    },
    {
      "cell_type": "code",
      "source": [
        "scores[0]['diff'] = 0\n",
        "for i, score in enumerate(scores):\n",
        "  if i == 0:\n",
        "    continue\n",
        "  score['diff'] = score['score'] - scores[i-1]['score']\n",
        "\n",
        "scores[:5]"
      ],
      "metadata": {
        "colab": {
          "base_uri": "https://localhost:8080/"
        },
        "id": "A06qmHNqmnws",
        "outputId": "c49ca952-faab-4402-d3a7-1453f0a50c4b"
      },
      "execution_count": 7,
      "outputs": [
        {
          "output_type": "execute_result",
          "data": {
            "text/plain": [
              "[{'param': 0.05, 'score': -0.0856, 'diff': 0},\n",
              " {'param': 0.1, 'score': 0.0054, 'diff': 0.091},\n",
              " {'param': 0.15, 'score': 0.1235, 'diff': 0.1181},\n",
              " {'param': 0.2, 'score': 0.1235, 'diff': 0.0},\n",
              " {'param': 0.25, 'score': 0.1235, 'diff': 0.0}]"
            ]
          },
          "metadata": {},
          "execution_count": 7
        }
      ]
    },
    {
      "cell_type": "markdown",
      "source": [
        "### 2.4 Visualizing score gain"
      ],
      "metadata": {
        "id": "TIW29E2k88Je"
      }
    },
    {
      "cell_type": "code",
      "source": [
        "from matplotlib import pyplot as plt\n",
        "\n",
        "param_list = [x['param'] for x in scores]\n",
        "score_list = [x['score'] for x in scores]\n",
        "diff_list = [x['diff'] for x in scores]\n",
        "\n",
        "fig = plt.figure()\n",
        "ax = fig.add_subplot()\n",
        "ax.set_ylabel('Silhouette')\n",
        "ax.set_xlabel('Minimum inpurity gain')\n",
        "plt.plot(param_list, score_list, label='score')\n",
        "plt.plot(param_list, diff_list, label='gain')\n",
        "ax.legend()\n",
        "plt.show()"
      ],
      "metadata": {
        "colab": {
          "base_uri": "https://localhost:8080/",
          "height": 279
        },
        "id": "BD9XCfnknhie",
        "outputId": "c7cdde3e-6d4e-419c-8e1f-e029c206cf37"
      },
      "execution_count": 8,
      "outputs": [
        {
          "output_type": "display_data",
          "data": {
            "text/plain": [
              "<Figure size 432x288 with 1 Axes>"
            ],
            "image/png": "[encoded data removed]"
          },
          "metadata": {
            "needs_background": "light"
          }
        }
      ]
    },
    {
      "cell_type": "markdown",
      "source": [
        "### 2.5 Построение реш. дерева"
      ],
      "metadata": {
        "id": "5caf0nP991Oy"
      }
    },
    {
      "cell_type": "code",
      "source": [
        "scores_sorted = sorted(scores, key=lambda x: x['diff'], reverse=True)\n",
        "threshold = scores_sorted[0]['param']\n",
        "\n",
        "labels = range(0, n)\n",
        "model = DecisionTreeClassifier(criterion='entropy',\n",
        "                               min_impurity_decrease=threshold)\n",
        "model.fit(X, labels)"
      ],
      "metadata": {
        "colab": {
          "base_uri": "https://localhost:8080/"
        },
        "id": "DlbvVbbpoAiE",
        "outputId": "6507058f-c746-4da7-e55a-e7181ee3e075"
      },
      "execution_count": 9,
      "outputs": [
        {
          "output_type": "execute_result",
          "data": {
            "text/plain": [
              "DecisionTreeClassifier(criterion='entropy', min_impurity_decrease=0.55)"
            ]
          },
          "metadata": {},
          "execution_count": 9
        }
      ]
    },
    {
      "cell_type": "markdown",
      "source": [
        "### 2.6 Визуализация дерева"
      ],
      "metadata": {
        "id": "e6gInJ67AG_g"
      }
    },
    {
      "cell_type": "code",
      "source": [
        "from sklearn import tree\n",
        "\n",
        "fig = plt.figure(figsize=(25, 10))\n",
        "tree.plot_tree(model,\n",
        "               feature_names = X.columns,\n",
        "               impurity=False,\n",
        "               proportion=True,\n",
        "               rounded=True)\n",
        "plt.show()"
      ],
      "metadata": {
        "colab": {
          "base_uri": "https://localhost:8080/",
          "height": 443
        },
        "id": "Jbkc2yKKoyLU",
        "outputId": "22109c03-ab20-4f6f-aa8c-17e7475888b3"
      },
      "execution_count": 10,
      "outputs": [
        {
          "output_type": "display_data",
          "data": {
            "text/plain": [
              "<Figure size 1800x720 with 1 Axes>"
            ],
            "image/png": "[encoded data removed]"
          },
          "metadata": {
            "needs_background": "light"
          }
        }
      ]
    },
    {
      "cell_type": "markdown",
      "source": [
        "# 3. Построение иерархии OWL классов"
      ],
      "metadata": {
        "id": "R6dxMcYtAcpA"
      }
    },
    {
      "cell_type": "markdown",
      "source": [
        "### 3.1 Извлечение данных из дерева"
      ],
      "metadata": {
        "id": "dM5hnBlYAkiM"
      }
    },
    {
      "cell_type": "code",
      "source": [
        "n_nodes = model.tree_.node_count\n",
        "children_left = model.tree_.children_left\n",
        "children_right = model.tree_.children_right\n",
        "features = model.tree_.feature\n",
        "thresholds = model.tree_.threshold\n",
        "\n",
        "def make_node(i):\n",
        "  node = {}\n",
        "  node['parentID'] = i\n",
        "  node['feature'] = X.columns[features[i]]\n",
        "  node['threshold'] = round(thresholds[i], 2)\n",
        "  return node\n",
        "\n",
        "nodes = []\n",
        "for i in range(0, n_nodes):\n",
        "  if children_left[i] != -1:\n",
        "    node = make_node(i)\n",
        "    node['ID'] = children_left[i]\n",
        "    node['comparison'] = '<='\n",
        "    nodes.append(node)\n",
        "  if children_right[i] != -1:\n",
        "    node = make_node(i)\n",
        "    node['ID'] = children_right[i]\n",
        "    node['comparison'] = '>'\n",
        "    nodes.append(node)\n",
        "\n",
        "nodes[:5]"
      ],
      "metadata": {
        "colab": {
          "base_uri": "https://localhost:8080/"
        },
        "id": "AbAgsg55pU9E",
        "outputId": "ecfd56eb-2605-406d-ad8e-d762d0a575ff"
      },
      "execution_count": 11,
      "outputs": [
        {
          "output_type": "execute_result",
          "data": {
            "text/plain": [
              "[{'parentID': 0,\n",
              "  'feature': 'A_M',\n",
              "  'threshold': 8.31,\n",
              "  'ID': 1,\n",
              "  'comparison': '<='},\n",
              " {'parentID': 0,\n",
              "  'feature': 'A_M',\n",
              "  'threshold': 8.31,\n",
              "  'ID': 2,\n",
              "  'comparison': '>'}]"
            ]
          },
          "metadata": {},
          "execution_count": 11
        }
      ]
    },
    {
      "cell_type": "markdown",
      "source": [
        "### 3.2 Создание онтологии и свойства"
      ],
      "metadata": {
        "id": "Qo-16BRLBFGV"
      }
    },
    {
      "cell_type": "code",
      "source": [
        "!pip install owlready2\n",
        "from owlready2 import *\n",
        "import types\n",
        "\n",
        "onto = get_ontology('onto.owl')\n",
        "\n",
        "with onto:\n",
        "  for feature in X.columns:\n",
        "    onto_feature = types.new_class(feature, (DataProperty,))"
      ],
      "metadata": {
        "colab": {
          "base_uri": "https://localhost:8080/"
        },
        "id": "GzetX1Atrk2_",
        "outputId": "61df32f1-a072-4df6-b547-a7fdb34e48b4"
      },
      "execution_count": 12,
      "outputs": [
        {
          "output_type": "stream",
          "name": "stdout",
          "text": [
            "Looking in indexes: https://pypi.org/simple, https://us-python.pkg.dev/colab-wheels/public/simple/\n",
            "Requirement already satisfied: owlready2 in /usr/local/lib/python3.7/dist-packages (0.39)\n"
          ]
        }
      ]
    },
    {
      "cell_type": "markdown",
      "source": [
        "###3.3 Создание классов"
      ],
      "metadata": {
        "id": "eLM8LLO52nJ4"
      }
    },
    {
      "cell_type": "code",
      "source": [
        "with onto:\n",
        "  for node in nodes:\n",
        "    parent = node['parentID']\n",
        "    if parent == 0:\n",
        "      onto_parent = Thing\n",
        "    else:\n",
        "      onto_parent = onto[f'Class_{parent}']\n",
        "    onto_class = types.new_class(f'Class_{node[\"ID\"]}', (onto_parent,))\n",
        "\n",
        "    onto_feature = onto[node['feature']]\n",
        "    threshold = node['threshold']\n",
        "    if node['comparison'] == '<=':\n",
        "      onto_class.equivalent_to.append(onto_feature.some(\n",
        "          ConstrainedDatatype(float, max_inclusive = threshold)))\n",
        "    else:\n",
        "      onto_class.equivalent_to.append(onto_feature.some(\n",
        "          ConstrainedDatatype(float, min_exclusive = threshold)))\n",
        "\n",
        "onto.save('onto.owl', format='ntriples')"
      ],
      "metadata": {
        "id": "cjUIiYsL0LYU"
      },
      "execution_count": 13,
      "outputs": []
    },
    {
      "cell_type": "markdown",
      "source": [
        "### 3.4 Создание сущностей"
      ],
      "metadata": {
        "id": "td-TsgX82p28"
      }
    },
    {
      "cell_type": "code",
      "source": [
        "i = 0\n",
        "\n",
        "with onto:\n",
        "  row = X.loc[i]\n",
        "  inst = Thing(f'inst{i}')\n",
        "  for feature in X.columns:\n",
        "    onto_feature = onto[feature]\n",
        "    onto_feature[inst].append(float(row[feature]))"
      ],
      "metadata": {
        "id": "Bt_c2NNO1x_2"
      },
      "execution_count": 14,
      "outputs": []
    },
    {
      "cell_type": "markdown",
      "source": [
        "### 3.5 Classifying with the reasoning"
      ],
      "metadata": {
        "id": "GciwjSWC7RN_"
      }
    },
    {
      "cell_type": "code",
      "source": [
        "with onto:\n",
        "  sync_reasoner_pellet()\n",
        "  print(inst.is_a)\n",
        "\n",
        "onto.save('onto_classified.owl', format='ntriples')"
      ],
      "metadata": {
        "colab": {
          "base_uri": "https://localhost:8080/"
        },
        "id": "POSW5Qk55RZu",
        "outputId": "d73b6262-409d-45a9-a5e8-287e629c5805"
      },
      "execution_count": 15,
      "outputs": [
        {
          "output_type": "stream",
          "name": "stderr",
          "text": [
            "* Owlready2 * Running Pellet...\n",
            "    java -Xmx2000M -cp /usr/local/lib/python3.7/dist-packages/owlready2/pellet/antlr-runtime-3.2.jar:/usr/local/lib/python3.7/dist-packages/owlready2/pellet/jcl-over-slf4j-1.6.4.jar:/usr/local/lib/python3.7/dist-packages/owlready2/pellet/xml-apis-1.4.01.jar:/usr/local/lib/python3.7/dist-packages/owlready2/pellet/jena-core-2.10.0.jar:/usr/local/lib/python3.7/dist-packages/owlready2/pellet/jena-arq-2.10.0.jar:/usr/local/lib/python3.7/dist-packages/owlready2/pellet/commons-codec-1.6.jar:/usr/local/lib/python3.7/dist-packages/owlready2/pellet/slf4j-api-1.6.4.jar:/usr/local/lib/python3.7/dist-packages/owlready2/pellet/aterm-java-1.6.jar:/usr/local/lib/python3.7/dist-packages/owlready2/pellet/httpcore-4.2.2.jar:/usr/local/lib/python3.7/dist-packages/owlready2/pellet/jena-tdb-0.10.0.jar:/usr/local/lib/python3.7/dist-packages/owlready2/pellet/pellet-2.3.1.jar:/usr/local/lib/python3.7/dist-packages/owlready2/pellet/jgrapht-jdk1.5.jar:/usr/local/lib/python3.7/dist-packages/owlready2/pellet/antlr-3.2.jar:/usr/local/lib/python3.7/dist-packages/owlready2/pellet/xercesImpl-2.10.0.jar:/usr/local/lib/python3.7/dist-packages/owlready2/pellet/slf4j-log4j12-1.6.4.jar:/usr/local/lib/python3.7/dist-packages/owlready2/pellet/owlapi-distribution-3.4.3-bin.jar:/usr/local/lib/python3.7/dist-packages/owlready2/pellet/jena-iri-0.9.5.jar:/usr/local/lib/python3.7/dist-packages/owlready2/pellet/log4j-1.2.16.jar:/usr/local/lib/python3.7/dist-packages/owlready2/pellet/httpclient-4.2.3.jar pellet.Pellet realize --loader Jena --input-format N-Triples --ignore-imports /tmp/tmpy9m0umkr\n"
          ]
        },
        {
          "output_type": "stream",
          "name": "stdout",
          "text": [
            "[onto.Class_2]\n"
          ]
        },
        {
          "output_type": "stream",
          "name": "stderr",
          "text": [
            "* Owlready2 * Pellet took 2.4676148891448975 seconds\n",
            "* Owlready * Reparenting onto.inst0: {owl.Thing} => {onto.Class_2}\n",
            "* Owlready * (NB: only changes on entities loaded in Python are shown, other changes are done but not listed)\n"
          ]
        }
      ]
    }
  ]
}